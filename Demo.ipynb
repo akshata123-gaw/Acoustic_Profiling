{
 "cells": [
  {
   "cell_type": "markdown",
   "id": "4b2b57c6",
   "metadata": {},
   "source": [
    "## Importing Required Libraries"
   ]
  },
  {
   "cell_type": "code",
   "execution_count": 1,
   "id": "c235e35f",
   "metadata": {},
   "outputs": [],
   "source": [
    "from __future__ import print_function\n",
    "import numpy as np\n",
    "import matplotlib.pyplot as plt\n",
    "import librosa\n",
    "import soundfile as sf\n",
    "import librosa.display\n",
    "import os"
   ]
  },
  {
   "cell_type": "markdown",
   "id": "7608e2df",
   "metadata": {},
   "source": [
    "## Extracting Audio Path"
   ]
  },
  {
   "cell_type": "code",
   "execution_count": 2,
   "id": "cd047cc4",
   "metadata": {},
   "outputs": [],
   "source": [
    "audio_path = os.listdir('Acoustic_Dataset')"
   ]
  },
  {
   "cell_type": "markdown",
   "id": "714a6447",
   "metadata": {},
   "source": [
    "## Processing Audio (denoising) and saving file"
   ]
  },
  {
   "cell_type": "code",
   "execution_count": 3,
   "id": "cbe60ab7",
   "metadata": {},
   "outputs": [],
   "source": [
    "for path in audio_path[95:104]:\n",
    "    y, sr = librosa.load('Acoustic_Dataset/'+path, duration=30,sr=44100)\n",
    "    S_full = librosa.feature.melspectrogram(y=y, sr=sr, n_fft=2048, hop_length=1024)\n",
    "    S_filter = librosa.decompose.nn_filter(S_full,\n",
    "                                       aggregate=np.median,\n",
    "                                       metric='cosine',\n",
    "                                       width=int(librosa.time_to_frames(2, sr=sr)))\n",
    "\n",
    "    S_filter = np.minimum(S_full, S_filter)\n",
    "    S = librosa.feature.inverse.mel_to_stft(S_filter)\n",
    "    y = librosa.griffinlim(S)\n",
    "    sf.write(f'Denoised Samples/denoise_{path}',y,sr)"
   ]
  }
 ],
 "metadata": {
  "kernelspec": {
   "display_name": "Python 3 (ipykernel)",
   "language": "python",
   "name": "python3"
  },
  "language_info": {
   "codemirror_mode": {
    "name": "ipython",
    "version": 3
   },
   "file_extension": ".py",
   "mimetype": "text/x-python",
   "name": "python",
   "nbconvert_exporter": "python",
   "pygments_lexer": "ipython3",
   "version": "3.10.9"
  }
 },
 "nbformat": 4,
 "nbformat_minor": 5
}
